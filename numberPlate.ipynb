{
 "nbformat": 4,
 "nbformat_minor": 0,
 "metadata": {
  "colab": {
   "provenance": [],
   "gpuType": "T4"
  },
  "kernelspec": {
   "name": "python3",
   "display_name": "Python 3"
  },
  "language_info": {
   "name": "python"
  },
  "accelerator": "GPU"
 },
 "cells": [
  {
   "cell_type": "code",
   "execution_count": null,
   "metadata": {
    "colab": {
     "base_uri": "https://localhost:8080/"
    },
    "id": "3HOitYiWMIaZ",
    "outputId": "72dacdca-f035-407a-b52c-a5fe2566547a"
   },
   "source": [
    "%cd ..\n",
    "from google.colab import drive\n",
    "drive.mount('/content/drive')"
   ],
   "outputs": []
  },
  {
   "cell_type": "code",
   "execution_count": null,
   "metadata": {
    "id": "H1yuTXGlXnJc"
   },
   "source": [
    "import os\n",
    "os.makedirs(\"/content/dataset\")"
   ],
   "outputs": []
  },
  {
   "cell_type": "code",
   "execution_count": null,
   "metadata": {
    "id": "eOzRwNIkGulx",
    "colab": {
     "base_uri": "https://localhost:8080/"
    },
    "outputId": "e877a08c-7e03-49ed-9488-3803c7d2015b"
   },
   "source": [
    "!git clone https://github.com/ultralytics/yolov5.git"
   ],
   "outputs": []
  },
  {
   "cell_type": "code",
   "execution_count": null,
   "metadata": {
    "id": "0UHX4TL7-Hg_",
    "colab": {
     "base_uri": "https://localhost:8080/"
    },
    "outputId": "d43ca3e3-5e24-4a2d-de1b-0153fe716030"
   },
   "source": [
    "!nvidia-smi"
   ],
   "outputs": []
  },
  {
   "cell_type": "code",
   "execution_count": null,
   "metadata": {
    "id": "UyO7NUkEDVi7",
    "colab": {
     "base_uri": "https://localhost:8080/",
     "height": 36
    },
    "outputId": "cd23949e-5b8e-42f6-dc41-dce5f0b3c2c1"
   },
   "source": [
    "import tensorflow as tf\n",
    "tf.test.gpu_device_name()"
   ],
   "outputs": []
  },
  {
   "cell_type": "code",
   "execution_count": null,
   "metadata": {
    "id": "EOsYuvJPiJ2r",
    "colab": {
     "base_uri": "https://localhost:8080/"
    },
    "outputId": "99b97d1b-bd97-4d37-f855-0a7566136a05"
   },
   "source": [
    "! sudo cp -v -r \"/content/drive/MyDrive/Dataset/LP.zip\" \"/content/dataset\""
   ],
   "outputs": []
  },
  {
   "cell_type": "code",
   "source": [
    "!unzip \"/content/dataset/LP.zip\" -d \"/content/dataset/\""
   ],
   "metadata": {
    "colab": {
     "base_uri": "https://localhost:8080/"
    },
    "id": "Z_HqWQWwdaaQ",
    "outputId": "4f50155c-2a26-4ba1-971b-2e9db054239c"
   },
   "execution_count": null,
   "outputs": []
  },
  {
   "cell_type": "code",
   "execution_count": null,
   "metadata": {
    "id": "9db1cgysY6lC"
   },
   "source": [
    "import os\n",
    "import pandas as pd\n",
    "import numpy as np\n",
    "import random\n",
    "import shutil\n",
    "from shutil import copyfile\n",
    "import tensorflow as tf\n",
    "import matplotlib.pyplot as plt\n",
    "\n",
    "import matplotlib.patches as mpatches"
   ],
   "outputs": []
  },
  {
   "cell_type": "code",
   "execution_count": null,
   "metadata": {
    "id": "xESZM_iFGk-V",
    "colab": {
     "base_uri": "https://localhost:8080/"
    },
    "outputId": "50d470d8-3307-4d21-d465-ff12af6d3ca4"
   },
   "source": [
    "%cd /yolov5"
   ],
   "outputs": []
  },
  {
   "cell_type": "code",
   "execution_count": null,
   "metadata": {
    "id": "2HvMJZYqT-Aa",
    "colab": {
     "base_uri": "https://localhost:8080/"
    },
    "outputId": "477ba2be-cbb3-4ace-8282-7bee3d3efa6e"
   },
   "source": [
    "!pip install -r requirements.txt"
   ],
   "outputs": []
  },
  {
   "cell_type": "code",
   "source": [
    "!pip install wandb\n",
    "!wandb login"
   ],
   "metadata": {
    "colab": {
     "base_uri": "https://localhost:8080/"
    },
    "id": "3QLYIJFnZkJz",
    "outputId": "efb24698-3ac7-4828-cce4-e1497c0be997"
   },
   "execution_count": null,
   "outputs": []
  },
  {
   "cell_type": "code",
   "source": [
    "!python train.py --img 416 --batch 16 --epochs 30 --data data.yaml --weights yolov5n.pt\n"
   ],
   "metadata": {
    "colab": {
     "base_uri": "https://localhost:8080/"
    },
    "id": "Q0QDCL8xbV7p",
    "outputId": "e40dd71e-5b47-4137-e754-98cacecc9ea5"
   },
   "execution_count": null,
   "outputs": []
  },
  {
   "cell_type": "markdown",
   "source": [],
   "metadata": {
    "id": "FMUJBb4Pb9kE"
   }
  },
  {
   "cell_type": "code",
   "source": [
    "!python train.py --img 640 --batch 20 --epochs 10 --data data.yaml --weights yolov5l.pt"
   ],
   "metadata": {
    "colab": {
     "base_uri": "https://localhost:8080/",
     "height": 1000
    },
    "id": "CQwTCOKt4ri2",
    "outputId": "f52e0ad7-3565-4ab3-ad8a-25a4cc0dd3af"
   },
   "execution_count": null,
   "outputs": []
  },
  {
   "cell_type": "code",
   "source": [
    "!python train.py --img 640 --batch 20 --epochs 30 --data data.yaml --weights yolov5m.pt"
   ],
   "metadata": {
    "colab": {
     "base_uri": "https://localhost:8080/"
    },
    "id": "KMXEpPn3UHdo",
    "outputId": "6a39fb42-7931-433c-8db0-1dd661ef2eaf"
   },
   "execution_count": null,
   "outputs": []
  },
  {
   "cell_type": "code",
   "source": [
    "!python train.py --img 640 --batch 50 --epochs 30 --data data.yaml --weights yolov5n.pt"
   ],
   "metadata": {
    "colab": {
     "base_uri": "https://localhost:8080/"
    },
    "id": "4n_jpO6iEuWE",
    "outputId": "862e1f9b-a407-446a-808a-1ab6d06b0b1f"
   },
   "execution_count": null,
   "outputs": []
  },
  {
   "cell_type": "markdown",
   "source": [
    "# Remove"
   ],
   "metadata": {
    "id": "1n3E1-p_j96Z"
   }
  },
  {
   "cell_type": "code",
   "source": [
    "import os\n",
    "\n",
    "# Directory path containing your text files\n",
    "txt_files_directory = '/content/dataset/Dataset/labels/test'\n",
    "\n",
    "# Set to store unique class labels across all files\n",
    "unique_labels_set = set()\n",
    "\n",
    "# Iterate through each text file\n",
    "for txt_file in os.listdir(txt_files_directory):\n",
    "    if txt_file.endswith('.txt'):\n",
    "        file_path = os.path.join(txt_files_directory, txt_file)\n",
    "\n",
    "        # Read the first line of the text file\n",
    "        with open(file_path, 'r') as file:\n",
    "            first_line = file.readline()\n",
    "\n",
    "        # Extract the class label from the first line\n",
    "        if first_line:\n",
    "            first_class_label = first_line.split()[0]\n",
    "\n",
    "            # Add the class label to the set of unique labels\n",
    "            unique_labels_set.add(first_class_label)\n",
    "\n",
    "# Print the unique class labels across all files\n",
    "print(\"Unique Class Labels from the first line of all files:\", unique_labels_set)\n"
   ],
   "metadata": {
    "colab": {
     "base_uri": "https://localhost:8080/"
    },
    "id": "KmQ_mA6IT3Fi",
    "outputId": "f593d5a9-f3fb-4e2d-e2d1-d092109e5f6c"
   },
   "execution_count": null,
   "outputs": []
  },
  {
   "cell_type": "code",
   "source": [
    "import os\n",
    "\n",
    "# Directory path containing your text files\n",
    "txt_files_directory = '/content/dataset/load'\n",
    "\n",
    "# List to store names of files containing class label 105\n",
    "files_with_label_105 = []\n",
    "\n",
    "# Iterate through each text file\n",
    "for txt_file in os.listdir(txt_files_directory):\n",
    "    if txt_file.endswith('.txt'):\n",
    "        file_path = os.path.join(txt_files_directory, txt_file)\n",
    "\n",
    "        # Read the first line of the text file\n",
    "        with open(file_path, 'r') as file:\n",
    "            first_line = file.readline()\n",
    "\n",
    "        # Extract the class label from the first line\n",
    "        if first_line:\n",
    "            first_class_label = int(first_line.split()[0])\n",
    "\n",
    "            # Check if the class label is equal to 105\n",
    "            if first_class_label ==  10:\n",
    "                files_with_label_105.append(txt_file)\n",
    "\n",
    "# Print the names of files containing class label 105\n",
    "if files_with_label_105:\n",
    "    print(\"Files containing class label 105:\", files_with_label_105)\n",
    "else:\n",
    "    print(\"No files found with class label 105.\")\n"
   ],
   "metadata": {
    "colab": {
     "base_uri": "https://localhost:8080/"
    },
    "id": "_-jclhijhlzR",
    "outputId": "ccdc51f8-5458-43be-d990-c39ccab2db60"
   },
   "execution_count": null,
   "outputs": []
  },
  {
   "cell_type": "code",
   "source": [],
   "metadata": {
    "id": "MdLxGiHimjPG"
   },
   "execution_count": null,
   "outputs": []
  },
  {
   "cell_type": "code",
   "source": [
    "import os\n",
    "\n",
    "# Directory path containing your image and text files\n",
    "directory_path = '/content/dataset/load'\n",
    "\n",
    "# File names to be removed\n",
    "image_file_name = '1844.jpg'\n",
    "text_file_name = '1844.txt'\n",
    "\n",
    "# Full paths to the files\n",
    "image_file_path = os.path.join(directory_path, image_file_name)\n",
    "text_file_path = os.path.join(directory_path, text_file_name)\n",
    "\n",
    "# Check if the files exist before removing them\n",
    "if os.path.exists(image_file_path):\n",
    "    os.remove(image_file_path)\n",
    "    print(f\"File {image_file_name} removed successfully.\")\n",
    "else:\n",
    "    print(f\"File {image_file_name} does not exist.\")\n",
    "\n",
    "if os.path.exists(text_file_path):\n",
    "    os.remove(text_file_path)\n",
    "    print(f\"File {text_file_name} removed successfully.\")\n",
    "else:\n",
    "    print(f\"File {text_file_name} does not exist.\")\n"
   ],
   "metadata": {
    "colab": {
     "base_uri": "https://localhost:8080/"
    },
    "id": "ILipnN8BkHcF",
    "outputId": "4b23e8a5-a205-4027-8b8a-31454e12a286"
   },
   "execution_count": null,
   "outputs": []
  },
  {
   "cell_type": "code",
   "source": [
    "import os\n",
    "\n",
    "# Directory path containing your text files\n",
    "txt_files_directory = '/content/dataset/load'\n",
    "\n",
    "# List to store names of files containing class label 103\n",
    "files_with_label_103 = []\n",
    "\n",
    "# Iterate through each text file\n",
    "for txt_file in os.listdir(txt_files_directory):\n",
    "    if txt_file.endswith('.txt'):\n",
    "        file_path = os.path.join(txt_files_directory, txt_file)\n",
    "\n",
    "        # Read all lines of the text file\n",
    "        with open(file_path, 'r') as file:\n",
    "            lines = file.readlines()\n",
    "\n",
    "        # Check each line for class label 103\n",
    "        for line in lines:\n",
    "            class_label = int(line.split()[0])\n",
    "            if class_label == 102:\n",
    "                files_with_label_103.append(txt_file)\n",
    "                break  # Break out of the loop once the class label is found in the file\n",
    "\n",
    "# Print the names of files containing class label 103\n",
    "if files_with_label_103:\n",
    "    print(\"Files containing class label 103:\", files_with_label_103)\n",
    "else:\n",
    "    print(\"No files found with class label 103.\")\n"
   ],
   "metadata": {
    "colab": {
     "base_uri": "https://localhost:8080/"
    },
    "id": "awcPLcWZCuzK",
    "outputId": "d01117f2-ec98-4895-8eba-475b298fde9b"
   },
   "execution_count": null,
   "outputs": []
  },
  {
   "cell_type": "markdown",
   "source": [
    "# start"
   ],
   "metadata": {
    "id": "ZnvXM5E9ycO-"
   }
  },
  {
   "cell_type": "code",
   "source": [
    "! sudo cp -v -r \"/yolov5/runs/train/exp4\" \"/content/drive/MyDrive/GDSharer\""
   ],
   "metadata": {
    "colab": {
     "base_uri": "https://localhost:8080/"
    },
    "id": "9as8C8gsyZxV",
    "outputId": "010dd010-1563-4813-cf29-783f5d356b21"
   },
   "execution_count": null,
   "outputs": []
  },
  {
   "cell_type": "markdown",
   "source": [],
   "metadata": {
    "id": "DyBczbOIqIdw"
   }
  },
  {
   "cell_type": "code",
   "source": [
    "!python detect.py --weights '/content/drive/MyDrive/GDSharer/number_detect/weights/number_detect_best.pt' --img 224 --conf 0.5 --source '/content/dataset/images.jpeg'\n"
   ],
   "metadata": {
    "id": "G0yLoUCwybay",
    "colab": {
     "base_uri": "https://localhost:8080/"
    },
    "outputId": "b532fbaf-c60c-41f8-f967-fd0c3e2cd1e1"
   },
   "execution_count": null,
   "outputs": []
  },
  {
   "cell_type": "code",
   "source": [
    "import torch\n",
    "im = '/content/drive/MyDrive/GDSharer/434318593_6781698281930573_6798349642528926938_n.jpg'\n",
    "model = torch.hub.load('ultralytics/yolov5', 'custom','/content/drive/MyDrive/GDSharer/exp2/weights/license_plate_best.pt')\n",
    "results = model(im)\n",
    "\n",
    "# Assuming results is the object containing detection results\n",
    "results.xyxy[0][0]\n",
    "\n"
   ],
   "metadata": {
    "colab": {
     "base_uri": "https://localhost:8080/"
    },
    "id": "fA7kqYpDN_4M",
    "outputId": "7f8f6822-4733-48a8-fdee-412ce240cebc"
   },
   "execution_count": null,
   "outputs": []
  },
  {
   "cell_type": "code",
   "source": [
    "for bound in bbox_raw:\n",
    "  print(int(bound.item()))"
   ],
   "metadata": {
    "colab": {
     "base_uri": "https://localhost:8080/"
    },
    "id": "PIctFO5uw0eT",
    "outputId": "d93c676e-9466-4a62-dd3c-f20f4d3e97d0"
   },
   "execution_count": null,
   "outputs": []
  },
  {
   "cell_type": "code",
   "source": [
    "bbox_raw = results.xyxy[0][0]\n",
    "bbox = []\n",
    "\n",
    "for bound in bbox_raw:\n",
    "  bbox.append(int(bound.item()))"
   ],
   "metadata": {
    "id": "5wPQxLlNvgUc"
   },
   "execution_count": null,
   "outputs": []
  },
  {
   "cell_type": "code",
   "source": [
    "bbox"
   ],
   "metadata": {
    "colab": {
     "base_uri": "https://localhost:8080/"
    },
    "id": "G9ZNI29TxACq",
    "outputId": "166dc158-6d7b-46c0-f395-c363cd79c76a"
   },
   "execution_count": null,
   "outputs": []
  },
  {
   "cell_type": "code",
   "source": [
    "bbox = bbox[:4]"
   ],
   "metadata": {
    "id": "D4IeeJ-ZxD-C"
   },
   "execution_count": null,
   "outputs": []
  },
  {
   "cell_type": "code",
   "source": [
    "bbox"
   ],
   "metadata": {
    "colab": {
     "base_uri": "https://localhost:8080/"
    },
    "id": "GN6aLNB-0Ri-",
    "outputId": "fb0b0a67-41ff-41c5-ae46-fdfa7e60caf3"
   },
   "execution_count": null,
   "outputs": []
  },
  {
   "cell_type": "code",
   "source": [
    "import cv2\n",
    "image = cv2.imread(im)"
   ],
   "metadata": {
    "id": "dBe5gLIky3rc"
   },
   "execution_count": null,
   "outputs": []
  },
  {
   "cell_type": "code",
   "source": [
    "import cv2\n",
    "crop_img = image[bbox[1]:bbox[3], bbox[0]:bbox[2]]\n",
    "\n",
    "%matplotlib inline\n",
    "plt.imshow(cv2.cvtColor(crop_img, cv2.COLOR_BGR2RGB))"
   ],
   "metadata": {
    "colab": {
     "base_uri": "https://localhost:8080/",
     "height": 379
    },
    "id": "F3uVlBtrdbGy",
    "outputId": "ec6b3e11-facc-4324-a4cc-2ba2e84a444d"
   },
   "execution_count": null,
   "outputs": []
  },
  {
   "cell_type": "code",
   "source": [
    "\n",
    "model = torch.hub.load('ultralytics/yolov5', 'custom','/content/drive/MyDrive/GDSharer/number_detect/weights/number_detect_best.pt')\n",
    "results = model(crop_img)\n",
    "\n",
    "# Assuming results is the object containing detection results\n",
    "results.pandas().xyxy[0]"
   ],
   "metadata": {
    "colab": {
     "base_uri": "https://localhost:8080/",
     "height": 436
    },
    "id": "98B7L74M0VZe",
    "outputId": "b6598508-b46e-42d7-a748-e4d164d0e4e2"
   },
   "execution_count": null,
   "outputs": []
  }
 ]
}
